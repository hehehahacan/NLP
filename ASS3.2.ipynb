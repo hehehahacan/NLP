{
 "cells": [
  {
   "cell_type": "code",
   "execution_count": 18,
   "metadata": {},
   "outputs": [],
   "source": [
    "from collections import defaultdict\n",
    "import time\n",
    "from functools import wraps\n",
    "import time\n",
    "original_price = [1,5,8,9,10,17,17,20,24,30]\n",
    "price = defaultdict(int)\n",
    "for i,p in enumerate(original_price):\n",
    "    price[i+1]=p"
   ]
  },
  {
   "cell_type": "code",
   "execution_count": 19,
   "metadata": {},
   "outputs": [],
   "source": [
    "solution = {}\n",
    "def memo(func):\n",
    "    cache = {}\n",
    "    @wraps(func)\n",
    "    def _wrap(n):\n",
    "        if n  in cache:\n",
    "            result = cache[n]\n",
    "        else:\n",
    "            result=func(n)\n",
    "            cache[n]=result\n",
    "        return result\n",
    "    return _wrap"
   ]
  },
  {
   "cell_type": "code",
   "execution_count": 20,
   "metadata": {},
   "outputs": [],
   "source": [
    "@memo\n",
    "def r(n):\n",
    "    max_price,split_point=max(\n",
    "        [(price[n],0)]+[(r(i)+r(n-i),i) for i in range(1,n)],key=lambda x :x[0]\n",
    "    )\n",
    "    solution[n]=(split_point,n-split_point)\n",
    "    return max_price"
   ]
  },
  {
   "cell_type": "code",
   "execution_count": 21,
   "metadata": {},
   "outputs": [
    {
     "data": {
      "text/plain": [
       "210"
      ]
     },
     "execution_count": 21,
     "metadata": {},
     "output_type": "execute_result"
    }
   ],
   "source": [
    "r(70)"
   ]
  },
  {
   "cell_type": "code",
   "execution_count": 22,
   "metadata": {},
   "outputs": [
    {
     "data": {
      "text/plain": [
       "(10, 60)"
      ]
     },
     "execution_count": 22,
     "metadata": {},
     "output_type": "execute_result"
    }
   ],
   "source": [
    "solution[70]"
   ]
  },
  {
   "cell_type": "code",
   "execution_count": 23,
   "metadata": {},
   "outputs": [],
   "source": [
    "def parse_solution(target_length,revenue_solution):\n",
    "    left,right=revenue_solution[target_length]\n",
    "    print(left,right)\n",
    "    if left==0:return [right]\n",
    "    return parse_solution(left,revenue_solution) +parse_solution(right,revenue_solution)"
   ]
  },
  {
   "cell_type": "code",
   "execution_count": 24,
   "metadata": {},
   "outputs": [
    {
     "name": "stdout",
     "output_type": "stream",
     "text": [
      "10 50\n",
      "0 10\n",
      "10 40\n",
      "0 10\n",
      "10 30\n",
      "0 10\n",
      "10 20\n",
      "0 10\n",
      "10 10\n",
      "0 10\n",
      "0 10\n"
     ]
    },
    {
     "data": {
      "text/plain": [
       "[10, 10, 10, 10, 10, 10]"
      ]
     },
     "execution_count": 24,
     "metadata": {},
     "output_type": "execute_result"
    }
   ],
   "source": [
    "parse_solution(60,solution)"
   ]
  },
  {
   "cell_type": "markdown",
   "metadata": {},
   "source": [
    "# QA\n",
    "Why do we use Derivative / Gredient to fit a target function?  \n",
    "Ans: Use computer the change the model become more efficiency\n",
    "\n",
    "In the words 'Gredient Descent', what's the Gredient and what's the Descent?  \n",
    "Ans: Gradient descent is a first-order iterative optimization algorithm for finding the minimum of a function. To find a local minimum of a function using gradient descent, one takes steps proportional to the negative of the gradient (or approximate gradient) of the function at the current point. If, instead, one takes steps proportional to the positive of the gradient, one approaches a local maximum of that function; the procedure is then known as gradient ascent.\n",
    "\n",
    "What's the advantages of the 3rd gradient descent method compared to the previous methods?  \n",
    "Ans: Every step in the right direction\n",
    "\n",
    "Using the simple words to describe: What's the machine leanring.\n",
    "Ans: Use big data to create computer model.\n",
    "\n",
    "Why do we need dynamic programming? What's the difference of dynamic programming and previous talked search problme?  \n",
    "Ans: Save Memo, Solve complicated problem more efficiency.\n",
    "\n",
    "Why do we still need dynamic programming? Why not we train a machine learning to fit a function which could get the right answer based on inputs?\n",
    "\n",
    "\n",
    "Can you catch up at least 3 problems which could solved by Dynamic Programming?   \n",
    "Search problem. Find shortest path. optimization problem\n",
    "Can you catch up at least 3 problems wich could sloved by Edit Distance?  \n",
    "Decomposition the original problem into several sub-problems. Preserve the answers to the solved sub-problems. Avoid repeated calculations. \n",
    "\n",
    "Please summarize the three main features of Dynamic Programming, and make a concise explain for each feature.  \n",
    "Decomposition the original problem into several sub-problems. Preserve the answers to the solved sub-problems. Avoid repeated calculations.\n",
    "  \n",
    "What's the disadvantages of Dynamic Programming? (You may need search by yourself in Internet)  \n",
    "Maybe a lot of unnecessary calculations have been done."
   ]
  },
  {
   "cell_type": "code",
   "execution_count": null,
   "metadata": {},
   "outputs": [],
   "source": []
  }
 ],
 "metadata": {
  "kernelspec": {
   "display_name": "Python 3",
   "language": "python",
   "name": "python3"
  },
  "language_info": {
   "codemirror_mode": {
    "name": "ipython",
    "version": 3
   },
   "file_extension": ".py",
   "mimetype": "text/x-python",
   "name": "python",
   "nbconvert_exporter": "python",
   "pygments_lexer": "ipython3",
   "version": "3.7.3"
  }
 },
 "nbformat": 4,
 "nbformat_minor": 2
}
